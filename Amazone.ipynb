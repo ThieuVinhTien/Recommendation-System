{
 "cells": [
  {
   "cell_type": "code",
   "execution_count": 64,
   "metadata": {},
   "outputs": [],
   "source": [
    "from mpl_toolkits.mplot3d import Axes3D\n",
    "from sklearn.preprocessing import StandardScaler\n",
    "import matplotlib.pyplot as plt # plotting\n",
    "import matplotlib.image as mpimg\n",
    "import numpy as np # linear algebra\n",
    "import pandas as pd # data processing, CSV file I/O (e.g. pd.read_csv)\n",
    "import os # accessing directory structure\n",
    "import tensorflow as tf\n",
    "from tensorflow.keras.preprocessing.text import Tokenizer\n",
    "from tensorflow.keras.preprocessing.sequence import pad_sequences\n",
    "from tensorflow.keras.models import Sequential\n",
    "from tensorflow.keras.models import Model\n",
    "from tensorflow.keras.layers import Embedding, GRU, Dense, LSTM,SimpleRNN\n"
   ]
  },
  {
   "cell_type": "code",
   "execution_count": 27,
   "metadata": {},
   "outputs": [],
   "source": [
    "\n",
    "import json\n",
    "import gzip\n",
    "\n",
    "def parse(path):\n",
    "  g = gzip.open(path, 'rb')\n",
    "  for l in g:\n",
    "    yield json.loads(l)\n",
    "\n",
    "def getDF(path):\n",
    "  i = 0\n",
    "  df = {}\n",
    "  for d in parse(path):\n",
    "    df[i] = d\n",
    "    i += 1\n",
    "  return pd.DataFrame.from_dict(df, orient='index')\n",
    "\n"
   ]
  },
  {
   "cell_type": "code",
   "execution_count": 130,
   "metadata": {},
   "outputs": [
    {
     "data": {
      "text/plain": [
       "overall         float64\n",
       "reviewerID       object\n",
       "asin             object\n",
       "reviewerName     object\n",
       "reviewText       object\n",
       "dtype: object"
      ]
     },
     "execution_count": 130,
     "metadata": {},
     "output_type": "execute_result"
    }
   ],
   "source": [
    "df = getDF('D:\\Download\\Video_Games_5.json.gz')\n",
    "df.iloc[0,4]\n",
    "df=df.drop(['verified','reviewTime','summary','unixReviewTime','vote','style','image'],axis='columns',inplace=False)\n",
    "df.dtypes"
   ]
  },
  {
   "cell_type": "code",
   "execution_count": 29,
   "metadata": {},
   "outputs": [
    {
     "data": {
      "text/plain": [
       "category        object\n",
       "description     object\n",
       "title           object\n",
       "also_buy        object\n",
       "brand           object\n",
       "rank            object\n",
       "also_view       object\n",
       "similar_item    object\n",
       "date            object\n",
       "asin            object\n",
       "dtype: object"
      ]
     },
     "execution_count": 29,
     "metadata": {},
     "output_type": "execute_result"
    }
   ],
   "source": [
    "meta_data=getDF('D:\\Download\\meta_Video_Games.json.gz')\n",
    "meta_data=meta_data.drop(['tech1','fit','tech2','feature','main_cat','price','details','imageURLHighRes','imageURL','price'],axis='columns',inplace=False)\n",
    "meta_data.dtypes "
   ]
  },
  {
   "cell_type": "code",
   "execution_count": 30,
   "metadata": {},
   "outputs": [],
   "source": [
    "import cv2\n",
    "def plot_figures(figures, nrows = 1, ncols=1,figsize=(8, 8)):\n",
    "       \n",
    "    fig, axeslist = plt.subplots(ncols=ncols, nrows=nrows,figsize=figsize)\n",
    "    for ind,title in enumerate(figures):\n",
    "        axeslist.ravel()[ind].imshow(cv2.cvtColor(figures[title], cv2.COLOR_BGR2RGB))\n",
    "        axeslist.ravel()[ind].set_title(title)\n",
    "        axeslist.ravel()[ind].set_axis_off()\n",
    "    plt.tight_layout() # optional\n",
    "    \n"
   ]
  },
  {
   "cell_type": "code",
   "execution_count": 31,
   "metadata": {},
   "outputs": [
    {
     "data": {
      "image/png": "[encoded data removed]",
      "text/plain": [
       "<Figure size 1000x500 with 1 Axes>"
      ]
     },
     "metadata": {},
     "output_type": "display_data"
    }
   ],
   "source": [
    "\n",
    "#plt.figure(figsize=(5,5))\n",
    "#sorted_overal=df['overall'].value_counts().sort_index().plot(kind='bar').set_title('Bang phan bo danh gia')\n",
    "import seaborn as sns\n",
    "with sns.axes_style('white'):\n",
    "    g = sns.catplot(x='overall',data=df,aspect=2.0,kind='count')\n",
    "    g.set_ylabels(\"Total number of ratings\")\n",
    "plt.show()\n"
   ]
  },
  {
   "cell_type": "code",
   "execution_count": 32,
   "metadata": {},
   "outputs": [
    {
     "data": {
      "text/plain": [
       "count    497577.000000\n",
       "mean          4.220456\n",
       "std           1.185424\n",
       "min           1.000000\n",
       "25%           4.000000\n",
       "50%           5.000000\n",
       "75%           5.000000\n",
       "max           5.000000\n",
       "Name: overall, dtype: float64"
      ]
     },
     "execution_count": 32,
     "metadata": {},
     "output_type": "execute_result"
    }
   ],
   "source": [
    "df.describe()['overall'].T"
   ]
  },
  {
   "cell_type": "code",
   "execution_count": 33,
   "metadata": {},
   "outputs": [
    {
     "name": "stdout",
     "output_type": "stream",
     "text": [
      "Number of missing values across columns: \n",
      " overall           0\n",
      "reviewerID        0\n",
      "asin              0\n",
      "reviewerName     76\n",
      "reviewText      158\n",
      "dtype: int64\n"
     ]
    }
   ],
   "source": [
    "#Check for missing values\n",
    "print('Number of missing values across columns: \\n',df.isnull().sum())\n",
    "#Dont worry cus they dont need a name\n"
   ]
  },
  {
   "cell_type": "code",
   "execution_count": 34,
   "metadata": {},
   "outputs": [],
   "source": [
    "from sklearn.preprocessing import LabelEncoder\n",
    "#Deal with missing reviewText\n",
    "# Replace missing review_text values with a placeholder string\n",
    "df['reviewText'].fillna('No reviews', inplace=True)\n",
    "le = LabelEncoder()\n",
    "df['review_text_cat'] = le.fit_transform(df['reviewText'])\n",
    "# Set the category value for rows with missing review_text\n",
    "df.loc[df['reviewText'].isnull(), 'review_text_cat'] = -1\n",
    "\n"
   ]
  },
  {
   "cell_type": "code",
   "execution_count": 35,
   "metadata": {},
   "outputs": [
    {
     "name": "stdout",
     "output_type": "stream",
     "text": [
      "Total data \n",
      "--------------------------------------------------\n",
      "\n",
      "Total no of ratings : 497577\n",
      "Total No of Users   : 55223\n",
      "Total No of products  : 17408\n"
     ]
    }
   ],
   "source": [
    "print(\"Total data \")\n",
    "print(\"-\"*50)\n",
    "print(\"\\nTotal no of ratings :\",df.shape[0])\n",
    "print(\"Total No of Users   :\", len(np.unique(df.reviewerID)))\n",
    "print(\"Total No of products  :\", len(np.unique(df.asin)))"
   ]
  },
  {
   "cell_type": "code",
   "execution_count": 36,
   "metadata": {},
   "outputs": [
    {
     "data": {
      "text/plain": [
       "reviewerID\n",
       "A3V6Z4RCDGRC44    815\n",
       "AJKWF4W7QD4NS     795\n",
       "A3W4D8XOGLWUN5    521\n",
       "A2QHS1ZCIQOL7E    472\n",
       "A2TCG2HV1VJP6V    453\n",
       "Name: overall, dtype: int64"
      ]
     },
     "execution_count": 36,
     "metadata": {},
     "output_type": "execute_result"
    }
   ],
   "source": [
    "#Analysis of rating given by the user \n",
    "\n",
    "no_of_rated_products_per_user = df.groupby(by='reviewerID')['overall'].count().sort_values(ascending=False)\n",
    "\n",
    "no_of_rated_products_per_user.head()"
   ]
  },
  {
   "cell_type": "code",
   "execution_count": 37,
   "metadata": {},
   "outputs": [
    {
     "data": {
      "text/plain": [
       "count    55223.000000\n",
       "mean         9.010322\n",
       "std         10.704194\n",
       "min          4.000000\n",
       "25%          5.000000\n",
       "50%          6.000000\n",
       "75%          9.000000\n",
       "max        815.000000\n",
       "Name: overall, dtype: float64"
      ]
     },
     "execution_count": 37,
     "metadata": {},
     "output_type": "execute_result"
    }
   ],
   "source": [
    "no_of_rated_products_per_user.describe()\n"
   ]
  },
  {
   "cell_type": "code",
   "execution_count": 38,
   "metadata": {},
   "outputs": [
    {
     "data": {
      "image/png": "[encoded data removed]",
      "text/plain": [
       "<Figure size 1000x1000 with 1 Axes>"
      ]
     },
     "metadata": {},
     "output_type": "display_data"
    }
   ],
   "source": [
    "quantiles = no_of_rated_products_per_user.quantile(np.arange(0,1.01,0.01), interpolation='higher')\n",
    "plt.figure(figsize=(10,10))\n",
    "plt.title(\"Quantiles and their Values\")\n",
    "quantiles.plot()\n",
    "# quantiles with 0.05 difference\n",
    "plt.scatter(x=quantiles.index[::5], y=quantiles.values[::5], c='orange', label=\"quantiles with 0.05 intervals\")\n",
    "# quantiles with 0.25 difference\n",
    "plt.scatter(x=quantiles.index[::25], y=quantiles.values[::25], c='m', label = \"quantiles with 0.25 intervals\")\n",
    "plt.ylabel('No of ratings by user')\n",
    "plt.xlabel('Value at the quantile')\n",
    "plt.legend(loc='best')\n",
    "plt.show()\n"
   ]
  },
  {
   "cell_type": "code",
   "execution_count": 39,
   "metadata": {},
   "outputs": [
    {
     "data": {
      "text/plain": [
       "<bound method NDFrame.head of         overall      reviewerID        asin      reviewerName  \\\n",
       "5           4.0  A11V6ZJ2FVQY1D  0700026657    IBRAHIM ALBADI   \n",
       "19          4.0  A2GPRA9HHLOC4B  0700026398       Wicasawakan   \n",
       "23          4.0  A37AO20OXS51QA  0700026398  Roderic Rinehart   \n",
       "39          4.0  A1QJJU33VNC4S7  0700099867            D@rkFX   \n",
       "90          5.0  A1PSBR3JRZ9VO0  0804161380              Vdub   \n",
       "...         ...             ...         ...               ...   \n",
       "497465      5.0  A22M55ZQK96UK6  B01GW8W2TU    MAXTHEGAMER806   \n",
       "497474      5.0   AG8UWL56LLU35  B01GW8ZC2O           Brandon   \n",
       "497477      5.0  A22M55ZQK96UK6  B01GW8WPXI    MAXTHEGAMER806   \n",
       "497540      2.0  A32JGNK1JNUSST  B01H3Z4MYE   Amazon Customer   \n",
       "497573      3.0  A1RS06313BL6WN  B01HH6JEOC      Tom Stopsign   \n",
       "\n",
       "                                               reviewText  review_text_cat  \n",
       "5       i liked a lot some time that i haven't play a ...           377323  \n",
       "19      I will open with the Pros:\\nReplayability - It...           158904  \n",
       "23      It's not exactly like previous Hitman games, b...           190144  \n",
       "39      I initially gave this one star because it was ...           127078  \n",
       "90      This is one of the coolest box sets I've ever ...           318889  \n",
       "...                                                   ...              ...  \n",
       "497465                             Great game for the PC.            80927  \n",
       "497474  Mainly got it for the mask which looks awesome...           206603  \n",
       "497477   One of the best Collectors Editions for the PS4.           232148  \n",
       "497540  I think the original MYST was more exciting th...           151367  \n",
       "497573                                        Okay stuff.           230174  \n",
       "\n",
       "[35491 rows x 6 columns]>"
      ]
     },
     "execution_count": 39,
     "metadata": {},
     "output_type": "execute_result"
    }
   ],
   "source": [
    "new_df=df.groupby(by=\"reviewerID\").filter(lambda x:x['overall'].count() >=50)\n",
    "new_df.head"
   ]
  },
  {
   "cell_type": "code",
   "execution_count": null,
   "metadata": {},
   "outputs": [],
   "source": []
  },
  {
   "cell_type": "code",
   "execution_count": 40,
   "metadata": {},
   "outputs": [],
   "source": [
    "# from tensorflow.keras.preprocessing.sequence import pad_sequences\n",
    "# from tensorflow.keras.models import Sequential\n",
    "# from tensorflow.keras.layers import Embedding, GRU, Dense, LSTM\n",
    "# # Load and preprocess the data\n",
    "# X = df['reviewText'].values\n",
    "# y = df['overall'].values\n",
    "\n",
    "# # Preprocess label data to remove outliers\n",
    "# y = np.clip(y, 0, 4)\n",
    "\n",
    "# # Encode label data as integers starting from 0\n",
    "# y -= 1\n",
    "\n",
    "# # Verify number of classes and set variables\n",
    "# num_classes = len(np.unique(y))\n",
    "# max_len = 100\n",
    "# vocab_size = 20000\n",
    "\n",
    "# # Tokenize the data and create sequences\n",
    "# tokenizer = Tokenizer(num_words=vocab_size)\n",
    "# tokenizer.fit_on_texts(X)\n",
    "# X_seq = tokenizer.texts_to_sequences(X)\n",
    "# X_pad = pad_sequences(X_seq, maxlen=max_len)\n",
    "\n",
    "# # Split the data into training and testing sets\n",
    "# split_ratio = 0.8\n",
    "# split_index = int(split_ratio * len(X_pad))\n",
    "# X_train = X_pad[:split_index]\n",
    "# X_test = X_pad[split_index:]\n",
    "# y_train = y[:split_index]\n",
    "# y_test = y[split_index:]\n",
    "\n",
    "# # Define the LSTM model architecture\n",
    "# model = Sequential()\n",
    "# model.add(Embedding(vocab_size, 128, input_length=max_len))\n",
    "# model.add(LSTM(128))\n",
    "# model.add(Dense(num_classes, activation='softmax'))\n",
    "\n",
    "# # Train the model on the training data\n",
    "# model.compile(optimizer='adam', loss='sparse_categorical_crossentropy', metrics=['accuracy'])\n",
    "# model.fit(X_train, y_train, epochs=10, batch_size=32, validation_data=(X_test, y_test))\n",
    "\n",
    "# # Evaluate the model on the testing data\n",
    "# loss, acc = model.evaluate(X_test, y_test, verbose=0)\n",
    "# print(f'Test loss: {loss}, Test accuracy: {acc}')\n",
    "\n",
    "# # Make predictions on new data\n",
    "# new_data = ['This product is amazing!', 'This product is terrible!']\n",
    "# new_data_seq = tokenizer.texts_to_sequences(new_data)\n",
    "# new_data_pad = pad_sequences(new_data_seq, maxlen=max_len)\n",
    "# predictions = model.predict(new_data_pad)\n",
    "# print(predictions)\n"
   ]
  },
  {
   "cell_type": "code",
   "execution_count": null,
   "metadata": {},
   "outputs": [],
   "source": [
    "def title_asin(title):\n",
    "    asin = meta_data.loc[meta_data['title'] == title, 'asin']\n",
    "    if not asin.empty:\n",
    "        return asin.values[0]\n",
    "    else:\n",
    "        return 'ASIN not found'\n",
    "def asin_title(asin):\n",
    "    title=meta_data.loc[meta_data['asin']==asin,'title']\n",
    "    if not title.empty:\n",
    "        return title.values[0]\n",
    "    else:\n",
    "        return 'title not found'\n",
    "def asin_reviewText(Asin):\n",
    "    reviewText=df.loc[df['asin']==Asin,'reviewText']\n",
    "    if not reviewText.empty:\n",
    "        return reviewText.values[0]\n",
    "    else:\n",
    "        return 'reviewText not found'\n",
    "def asin_to_number(asin_list):\n",
    "    label_encoder = LabelEncoder()\n",
    "    return label_encoder.fit_transform(asin_list)\n",
    "\n",
    "def number_to_asin(asin_numbers):\n",
    "    label_encoder = LabelEncoder()\n",
    "    label_encoder.fit_transform(df['asin'])\n",
    "    return label_encoder.inverse_transform(asin_numbers)\n"
   ]
  },
  {
   "cell_type": "code",
   "execution_count": null,
   "metadata": {},
   "outputs": [],
   "source": []
  },
  {
   "cell_type": "code",
   "execution_count": 77,
   "metadata": {},
   "outputs": [
    {
     "ename": "KeyboardInterrupt",
     "evalue": "",
     "output_type": "error",
     "traceback": [
      "\u001b[1;31m---------------------------------------------------------------------------\u001b[0m",
      "\u001b[1;31mKeyboardInterrupt\u001b[0m                         Traceback (most recent call last)",
      "Cell \u001b[1;32mIn[77], line 5\u001b[0m\n\u001b[0;32m      3\u001b[0m tokenizer \u001b[39m=\u001b[39m Tokenizer(num_words\u001b[39m=\u001b[39m\u001b[39m5000\u001b[39m)\n\u001b[0;32m      4\u001b[0m tokenizer\u001b[39m.\u001b[39mfit_on_texts(df[\u001b[39m'\u001b[39m\u001b[39mreviewText\u001b[39m\u001b[39m'\u001b[39m])\n\u001b[1;32m----> 5\u001b[0m X \u001b[39m=\u001b[39m tokenizer\u001b[39m.\u001b[39;49mtexts_to_sequences(df[\u001b[39m'\u001b[39;49m\u001b[39mreviewText\u001b[39;49m\u001b[39m'\u001b[39;49m])\n\u001b[0;32m      6\u001b[0m X \u001b[39m=\u001b[39m pad_sequences(X, maxlen\u001b[39m=\u001b[39m\u001b[39m100\u001b[39m)\n\u001b[0;32m      9\u001b[0m label_encoder \u001b[39m=\u001b[39m LabelEncoder()\n",
      "File \u001b[1;32m~\\AppData\\Local\\Packages\\PythonSoftwareFoundation.Python.3.10_qbz5n2kfra8p0\\LocalCache\\local-packages\\Python310\\site-packages\\keras\\preprocessing\\text.py:357\u001b[0m, in \u001b[0;36mTokenizer.texts_to_sequences\u001b[1;34m(self, texts)\u001b[0m\n\u001b[0;32m    345\u001b[0m \u001b[39mdef\u001b[39;00m \u001b[39mtexts_to_sequences\u001b[39m(\u001b[39mself\u001b[39m, texts):\n\u001b[0;32m    346\u001b[0m \u001b[39m    \u001b[39m\u001b[39m\"\"\"Transforms each text in texts to a sequence of integers.\u001b[39;00m\n\u001b[0;32m    347\u001b[0m \n\u001b[0;32m    348\u001b[0m \u001b[39m    Only top `num_words-1` most frequent words will be taken into account.\u001b[39;00m\n\u001b[1;32m   (...)\u001b[0m\n\u001b[0;32m    355\u001b[0m \u001b[39m        A list of sequences.\u001b[39;00m\n\u001b[0;32m    356\u001b[0m \u001b[39m    \"\"\"\u001b[39;00m\n\u001b[1;32m--> 357\u001b[0m     \u001b[39mreturn\u001b[39;00m \u001b[39mlist\u001b[39;49m(\u001b[39mself\u001b[39;49m\u001b[39m.\u001b[39;49mtexts_to_sequences_generator(texts))\n",
      "File \u001b[1;32m~\\AppData\\Local\\Packages\\PythonSoftwareFoundation.Python.3.10_qbz5n2kfra8p0\\LocalCache\\local-packages\\Python310\\site-packages\\keras\\preprocessing\\text.py:386\u001b[0m, in \u001b[0;36mTokenizer.texts_to_sequences_generator\u001b[1;34m(self, texts)\u001b[0m\n\u001b[0;32m    384\u001b[0m \u001b[39melse\u001b[39;00m:\n\u001b[0;32m    385\u001b[0m     \u001b[39mif\u001b[39;00m \u001b[39mself\u001b[39m\u001b[39m.\u001b[39manalyzer \u001b[39mis\u001b[39;00m \u001b[39mNone\u001b[39;00m:\n\u001b[1;32m--> 386\u001b[0m         seq \u001b[39m=\u001b[39m text_to_word_sequence(\n\u001b[0;32m    387\u001b[0m             text,\n\u001b[0;32m    388\u001b[0m             filters\u001b[39m=\u001b[39;49m\u001b[39mself\u001b[39;49m\u001b[39m.\u001b[39;49mfilters,\n\u001b[0;32m    389\u001b[0m             lower\u001b[39m=\u001b[39;49m\u001b[39mself\u001b[39;49m\u001b[39m.\u001b[39;49mlower,\n\u001b[0;32m    390\u001b[0m             split\u001b[39m=\u001b[39;49m\u001b[39mself\u001b[39;49m\u001b[39m.\u001b[39;49msplit,\n\u001b[0;32m    391\u001b[0m         )\n\u001b[0;32m    392\u001b[0m     \u001b[39melse\u001b[39;00m:\n\u001b[0;32m    393\u001b[0m         seq \u001b[39m=\u001b[39m \u001b[39mself\u001b[39m\u001b[39m.\u001b[39manalyzer(text)\n",
      "\u001b[1;31mKeyboardInterrupt\u001b[0m: "
     ]
    }
   ],
   "source": [
    "\n",
    "#LSTM\n",
    "# Preprocess the data\n",
    "tokenizer = Tokenizer(num_words=5000)\n",
    "tokenizer.fit_on_texts(df['reviewText'])\n",
    "X = tokenizer.texts_to_sequences(df['reviewText'])\n",
    "X = pad_sequences(X, maxlen=100)\n",
    "\n",
    "\n",
    "label_encoder = LabelEncoder()\n",
    "y = label_encoder.fit_transform(df['asin'])\n",
    "\n",
    "# Define LSTM model architecture\n",
    "model = Sequential()\n",
    "\n",
    "model.add(Embedding(5000, 128, input_length=100))\n",
    "model.add(LSTM(128, dropout=0.2, recurrent_dropout=0.2))\n",
    "#model.add(SimpleRNN(128))\n",
    "model.add(Dense(1, activation='sigmoid'))\n",
    "\n",
    "# Compile the model\n",
    "model.compile(loss='binary_crossentropy', optimizer='adam', metrics=['accuracy'])\n",
    "\n",
    "# Train the model\n",
    "Y=asin_to_number(df['asin'])\n",
    "model.fit(X,Y, epochs=10, batch_size=32, validation_split=0.2)\n",
    "model.save('modelLSTM.h5')\n",
    "\n"
   ]
  },
  {
   "cell_type": "code",
   "execution_count": 95,
   "metadata": {},
   "outputs": [],
   "source": [
    "#this code is to use model\n",
    "def recommendations(asin, model, tokenizer, label_encoder, num_recommendations=5):\n",
    "    # Get the review text for the input ASIN\n",
    "    import tensorflow as tf\n",
    "    \n",
    "    input_review = df.loc[df['asin']==asin, 'reviewText'].values[0]\n",
    "    \n",
    "    # Convert review text to input sequence\n",
    "    input_sequence = tokenizer.texts_to_sequences([input_review])\n",
    "    input_sequence = pad_sequences(input_sequence, maxlen=100)\n",
    "    \n",
    "    # Use model to generate recommendations\n",
    "    recommendations = model.predict(input_sequence)\n",
    "    \n",
    "    # Convert numerical labels back to ASINs\n",
    "    recommendations_asin = label_encoder.inverse_transform(recommendations.flatten().astype(int))\n",
    "    \n",
    "    # Exclude input ASIN from recommendations\n",
    "    recommendations_asin = recommendations_asin[recommendations_asin != asin]\n",
    "    \n",
    "    # Return top n recommendations\n",
    "    return recommendations_asin[:num_recommendations]\n",
    "\n"
   ]
  },
  {
   "cell_type": "code",
   "execution_count": 111,
   "metadata": {},
   "outputs": [],
   "source": [
    "def RecommendationASIN(input_asin):\n",
    "    input_title=asin_title(input_asin)\n",
    "    print(f'Input title:{input_title}')\n",
    "    \n",
    "    model=tf.keras.models.load_model('modelLSTM.h5')\n",
    "    recommended_asins = recommendations(input_asin, model, tokenizer, label_encoder)\n",
    "    print(recommended_asins)\n",
    "    print(type(recommended_asins))\n",
    "    count=0\n",
    "    for i in recommended_asins:\n",
    "        recommended_titles=[]\n",
    "        recommended_titles.append(asin_title(recommended_asins[count]))\n",
    "        print(f'Recommended_title: {recommended_titles[count]}')\n",
    "        count=count+1\n",
    "def RecommendationTitle(input_title):\n",
    "    \n",
    "    model=tf.keras.models.load_model('modelLSTM.h5')\n",
    "    input_asin=title_asin(input_title)\n",
    "    input_asin=np.array([input_asin])\n",
    "    print(type(input_asin))\n",
    "    recommended_asins = recommendations(input_asin, model, tokenizer, label_encoder)\n",
    "    print(recommended_asins)\n",
    "    count=0\n",
    "    for i in recommended_asins:\n",
    "        recommended_titles=[]\n",
    "        recommended_titles.append(asin_title(recommended_asins[count]))\n",
    "        print(f'Recommended_title: {recommended_titles[count]}')\n",
    "        count=count+1\n"
   ]
  },
  {
   "cell_type": "code",
   "execution_count": 88,
   "metadata": {},
   "outputs": [
    {
     "data": {
      "text/plain": [
       "'0439591570'"
      ]
     },
     "execution_count": 88,
     "metadata": {},
     "output_type": "execute_result"
    }
   ],
   "source": [
    "meta_data['title'][100]\n",
    "meta_data['asin'][20]"
   ]
  },
  {
   "cell_type": "code",
   "execution_count": 129,
   "metadata": {},
   "outputs": [
    {
     "name": "stdout",
     "output_type": "stream",
     "text": [
      "Input title:USB Microphone for RockBand or Guitar Hero (PS3, Wii, Xbox360)\n",
      "1/1 [==============================] - 0s 320ms/step\n",
      "['0700026657']\n",
      "<class 'numpy.ndarray'>\n",
      "Recommended_title: Anno 2070\n"
     ]
    }
   ],
   "source": [
    "input_asin='6050036071'\n",
    "imput_asin='0439591570'#\n",
    "#RecommendationTitle('Cossacks Anthology - Collector s Edition')\n",
    "RecommendationASIN(input_asin)\n",
    "#print(asin_title(3936336512))"
   ]
  },
  {
   "cell_type": "code",
   "execution_count": 115,
   "metadata": {},
   "outputs": [
    {
     "name": "stdout",
     "output_type": "stream",
     "text": [
      "Input title:Diablo III\n",
      "1/1 [==============================] - 0s 334ms/step\n",
      "['0700026657']\n",
      "<class 'numpy.ndarray'>\n",
      "Recommended_title: Anno 2070\n"
     ]
    }
   ],
   "source": [
    "input_asin='B00178630A'\n",
    "#RecommendationTitle('Diablo III')\n",
    "RecommendationASIN(input_asin)\n"
   ]
  },
  {
   "cell_type": "code",
   "execution_count": 128,
   "metadata": {},
   "outputs": [
    {
     "data": {
      "text/html": [
       "<div>\n",
       "<style scoped>\n",
       "    .dataframe tbody tr th:only-of-type {\n",
       "        vertical-align: middle;\n",
       "    }\n",
       "\n",
       "    .dataframe tbody tr th {\n",
       "        vertical-align: top;\n",
       "    }\n",
       "\n",
       "    .dataframe thead th {\n",
       "        text-align: right;\n",
       "    }\n",
       "</style>\n",
       "<table border=\"1\" class=\"dataframe\">\n",
       "  <thead>\n",
       "    <tr style=\"text-align: right;\">\n",
       "      <th></th>\n",
       "      <th>category</th>\n",
       "      <th>description</th>\n",
       "      <th>title</th>\n",
       "      <th>also_buy</th>\n",
       "      <th>brand</th>\n",
       "      <th>rank</th>\n",
       "      <th>also_view</th>\n",
       "      <th>similar_item</th>\n",
       "      <th>date</th>\n",
       "      <th>asin</th>\n",
       "    </tr>\n",
       "  </thead>\n",
       "  <tbody>\n",
       "    <tr>\n",
       "      <th>38</th>\n",
       "      <td>[Video Games, PC, Games]</td>\n",
       "      <td>[ANNO 2070BRAND NEW - IN STOCKDVD Rom Software...</td>\n",
       "      <td>Anno 2070</td>\n",
       "      <td>[]</td>\n",
       "      <td>Ubisoft</td>\n",
       "      <td>[&gt;#30,230 in Video Games (See Top 100 in Video...</td>\n",
       "      <td>[B013F0IP1C, B00JDP1AWU, B00XR3YC2E, B001AWMCM...</td>\n",
       "      <td></td>\n",
       "      <td></td>\n",
       "      <td>0700026657</td>\n",
       "    </tr>\n",
       "  </tbody>\n",
       "</table>\n",
       "</div>"
      ],
      "text/plain": [
       "                    category  \\\n",
       "38  [Video Games, PC, Games]   \n",
       "\n",
       "                                          description      title also_buy  \\\n",
       "38  [ANNO 2070BRAND NEW - IN STOCKDVD Rom Software...  Anno 2070       []   \n",
       "\n",
       "      brand                                               rank  \\\n",
       "38  Ubisoft  [>#30,230 in Video Games (See Top 100 in Video...   \n",
       "\n",
       "                                            also_view similar_item date  \\\n",
       "38  [B013F0IP1C, B00JDP1AWU, B00XR3YC2E, B001AWMCM...                     \n",
       "\n",
       "          asin  \n",
       "38  0700026657  "
      ]
     },
     "execution_count": 128,
     "metadata": {},
     "output_type": "execute_result"
    }
   ],
   "source": [
    "meta_data.loc[meta_data['title']=='Anno 2070'][:10]"
   ]
  },
  {
   "cell_type": "code",
   "execution_count": null,
   "metadata": {},
   "outputs": [],
   "source": [
    "def Recommendation_title(Title):\n",
    "    Asin=title_asin(title)\n",
    "    loaded_model=tf.keras.model.load_model('model.h5')\n",
    "    # Predict the sentiment of the review text for the matching ASIN\n",
    "    Predictions = loaded_model.predict([Asin])\n",
    "    "
   ]
  },
  {
   "cell_type": "code",
   "execution_count": null,
   "metadata": {},
   "outputs": [
    {
     "data": {
      "text/plain": [
       "0     0700026657\n",
       "1     0700026657\n",
       "2     0700026657\n",
       "3     0700026657\n",
       "4     0700026657\n",
       "5     0700026657\n",
       "6     0700026657\n",
       "7     0700026657\n",
       "8     0700026657\n",
       "9     0700026657\n",
       "10    0700026657\n",
       "11    0700026657\n",
       "12    0700099867\n",
       "13    0700099867\n",
       "14    0700099867\n",
       "15    0700099867\n",
       "16    0700099867\n",
       "17    0700026398\n",
       "18    0700026398\n",
       "19    0700026398\n",
       "20    0700099867\n",
       "21    0700026398\n",
       "22    0700026398\n",
       "23    0700026398\n",
       "24    0700026398\n",
       "25    0700099867\n",
       "26    0700099867\n",
       "27    0700099867\n",
       "28    0700099867\n",
       "29    0700099867\n",
       "30    0700099867\n",
       "31    0700099867\n",
       "32    0700099867\n",
       "33    0700099867\n",
       "34    0700099867\n",
       "35    0700099867\n",
       "36    0700099867\n",
       "37    0700099867\n",
       "38    0700099867\n",
       "39    0700099867\n",
       "Name: asin, dtype: object"
      ]
     },
     "execution_count": 23,
     "metadata": {},
     "output_type": "execute_result"
    }
   ],
   "source": [
    "Asin_Test=df.groupby(by='asin').count()\n",
    "Asin_Test\n",
    "df['asin'].head(40)"
   ]
  },
  {
   "cell_type": "code",
   "execution_count": null,
   "metadata": {},
   "outputs": [
    {
     "data": {
      "text/plain": [
       "0                               Reversi Sensory Challenger\n",
       "1        Medal of Honor: Warfighter - Includes Battlefi...\n",
       "2        street fighter 2 II turbo super nintendo snes ...\n",
       "3                                       Xbox 360 MAS STICK\n",
       "4                            Phonics Alive! 3: The Speller\n",
       "                               ...                        \n",
       "84814    Lego Star Wars: The Force Awakens - PS Vita [D...\n",
       "84815    Lego Star Wars: The Force Awakens  Season Pass...\n",
       "84816                The Technomancer - PS4 [Digital Code]\n",
       "84817    Repair T8 T6 Tools for XBOX One Xbox 360, YTTL...\n",
       "84818    Zelotes 4000 DPI Programmable Gaming Mouse for...\n",
       "Name: title, Length: 84819, dtype: object"
      ]
     },
     "execution_count": 24,
     "metadata": {},
     "output_type": "execute_result"
    }
   ],
   "source": [
    "meta_data['title']"
   ]
  }
 ],
 "metadata": {
  "kernelspec": {
   "display_name": "Python 3",
   "language": "python",
   "name": "python3"
  },
  "language_info": {
   "codemirror_mode": {
    "name": "ipython",
    "version": 3
   },
   "file_extension": ".py",
   "mimetype": "text/x-python",
   "name": "python",
   "nbconvert_exporter": "python",
   "pygments_lexer": "ipython3",
   "version": "3.10.11"
  },
  "orig_nbformat": 4
 },
 "nbformat": 4,
 "nbformat_minor": 2
}
